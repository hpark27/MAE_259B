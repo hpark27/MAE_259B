{
  "nbformat": 4,
  "nbformat_minor": 0,
  "metadata": {
    "colab": {
      "provenance": [],
      "collapsed_sections": []
    },
    "kernelspec": {
      "name": "python3",
      "display_name": "Python 3"
    },
    "language_info": {
      "name": "python"
    }
  },
  "cells": [
    {
      "cell_type": "code",
      "execution_count": null,
      "metadata": {
        "id": "loIShgzj2wO9"
      },
      "outputs": [],
      "source": [
        "import torch\n",
        "import torch.nn as nn\n",
        "import torch.optim as optim\n",
        "import numpy as np\n",
        "from torch.utils.data import Dataset, DataLoader\n",
        "from sklearn.model_selection import train_test_split\n",
        "\n",
        "device = torch.device('cuda:' + str(gpu) if torch.cuda.is_available() else 'cpu')\n",
        "# Print whether CPU or GPU is used.\n",
        "device = torch.device(\"cuda:0\")\n"
      ]
    },
    {
      "cell_type": "markdown",
      "source": [
        "## **Populate the Data for m, k1, k2, x, and y**"
      ],
      "metadata": {
        "id": "dzvcv4of-5pk"
      }
    },
    {
      "cell_type": "code",
      "source": [
        "m = np.random.uniform(0,1,(1,100000)) \n",
        "k1 = np.random.uniform(0,1,(1,100000))\n",
        "k2 = k1+np.random.uniform(0,1,(1,100000))\n",
        "posy =  # fill in the blank\n",
        "posx =  # fill in the blank"
      ],
      "metadata": {
        "id": "hc5dZtWc29Pe"
      },
      "execution_count": null,
      "outputs": []
    },
    {
      "cell_type": "code",
      "source": [
        "m_test = np.random.uniform(0,1,(1,100000))\n",
        "k1_test = np.random.uniform(0,1,(1,100000))\n",
        "k2_test = k1_test+np.random.uniform(0,1,(1,100000))\n",
        "posy_test =  # fill in the blank\n",
        "posx_test = # fill in the blank"
      ],
      "metadata": {
        "id": "OAlgf7ytAsTH"
      },
      "execution_count": null,
      "outputs": []
    },
    {
      "cell_type": "code",
      "source": [
        "class Data(Dataset):\n",
        "    def __init__(self, X, y):\n",
        "        self.X = torch.from_numpy(X.astype(np.float32))\n",
        "        self.y = torch.from_numpy(y.astype(np.float32))\n",
        "        self.len = self.X.shape[0]\n",
        "       \n",
        "    def __getitem__(self, index):\n",
        "        return self.X[index], self.y[index]\n",
        "   \n",
        "    def __len__(self):\n",
        "        return self.len"
      ],
      "metadata": {
        "id": "lTERA7X3_Ig-"
      },
      "execution_count": null,
      "outputs": []
    },
    {
      "cell_type": "code",
      "source": [
        "batch_size = 1000 #Choose your own batch size"
      ],
      "metadata": {
        "id": "J4zhEBtC-qsN"
      },
      "execution_count": null,
      "outputs": []
    },
    {
      "cell_type": "code",
      "source": [
        "data_input = np.column_stack([])  # Fill in the input data format size : ()\n",
        "data_output = np.transpose(m) \n",
        "data_input_test = np.column_stack([])   # Fill in the input data format size : ()\n",
        "data_output_test =np.transpose(m_test) "
      ],
      "metadata": {
        "id": "TJLeSxrlAcFb"
      },
      "execution_count": null,
      "outputs": []
    },
    {
      "cell_type": "code",
      "source": [
        "train_data = Data(data_input, data_output)\n",
        "train_set = DataLoader(dataset=train_data, batch_size=batch_size, shuffle=True)\n",
        "\n",
        "test_data = Data(data_input_test, data_output_test)\n",
        "test_set = DataLoader(dataset=test_data, batch_size=batch_size, shuffle=True)"
      ],
      "metadata": {
        "id": "QQ-K7AAL-1vd"
      },
      "execution_count": null,
      "outputs": []
    },
    {
      "cell_type": "code",
      "source": [
        "from torch.autograd import Variable\n",
        "input_size =  # fill in the blank. \n",
        "hidden_layer_size = # fill in the blank. \n",
        "learning_rate = # fill in the blank. \n",
        "num_epochs = # fill in the blank. \n",
        "class RegressionModel(nn.Module):\n",
        "\n",
        "    def __init__(self, input_size, hidden_size):\n",
        "        super(RegressionModel, self).__init__()\n",
        "        self.dense_h1 = nn.Linear(in_features=input_size, out_features=hidden_size) \n",
        "        self.relu_h1 = nn. # choose your own activation function\n",
        "        self.dense_h2 = nn.Linear(in_features=hidden_size, out_features=hidden_size)  \n",
        "        self.relu_h2 = nn. # choose your own activation function\n",
        "        self.dropout = nn.Dropout(p=0.5)\n",
        "        self.dense_out = nn.Linear(in_features=hidden_size, out_features=1)\n",
        "\n",
        "    def forward(self, X):\n",
        "\n",
        "        out = self.relu_h1(self.dense_h1(X))\n",
        "        out = self.relu_h2(self.dense_h2(out))\n",
        "        out = self.dropout(out)\n",
        "        out = self.dense_out(out)\n",
        "\n",
        "        return out\n",
        "\n",
        "m = RegressionModel(input_size=input_size, hidden_size=hidden_layer_size)\n",
        "\n",
        "cost_func = nn.MSELoss()\n",
        "optimizer = torch.optim.Adam(m.parameters(), lr=learning_rate) \n",
        "\n",
        "all_losses = []\n",
        "for e in range(num_epochs):\n",
        "    batch_losses = []\n",
        "\n",
        "    for ix, (Xb, yb) in enumerate(train_set):\n",
        "\n",
        "        _X = Variable(Xb).float()\n",
        "        _y = Variable(yb).float()\n",
        "\n",
        "        #==========Forward pass===============\n",
        "\n",
        "        preds = m(_X)\n",
        "        loss = cost_func(preds, _y)\n",
        "\n",
        "        #==========backward pass==============\n",
        "\n",
        "        optimizer.zero_grad()\n",
        "        loss.backward()\n",
        "        optimizer.step()\n",
        "\n",
        "        batch_losses.append(loss.data)\n",
        "        all_losses.append(loss.data)\n",
        "\n",
        "    mbl = np.mean(np.sqrt(batch_losses)).round(3)\n",
        "\n",
        "    if e % 5 == 0:\n",
        "        print(\"Epoch [{}/{}], Batch loss: {}\".format(e, num_epochs, mbl))\n",
        "\n",
        "# prepares model for inference when trained with a dropout layer\n",
        "print(m.training)\n",
        "m.eval()\n",
        "print(m.training)\n",
        "\n",
        "test_batch_losses = []\n",
        "for _X, _y in test_set:\n",
        "\n",
        "    _X = Variable(_X).float()\n",
        "    _y = Variable(_y).float()\n",
        "\n",
        "    #apply model\n",
        "    test_preds = m(_X)\n",
        "    test_loss = cost_func(test_preds, _y)\n",
        "\n",
        "    test_batch_losses.append(test_loss.data)\n",
        "    print(\"Batch loss: {}\".format(test_loss.data))"
      ],
      "metadata": {
        "colab": {
          "base_uri": "https://localhost:8080/"
        },
        "id": "uW7-y17kLgTO",
        "outputId": "120e5548-44dc-4f8d-f02a-b3ac4a99c3f0"
      },
      "execution_count": null,
      "outputs": [
        {
          "output_type": "stream",
          "name": "stdout",
          "text": [
            "Epoch [0/2000], Batch loss: 58.38999938964844\n",
            "Epoch [5/2000], Batch loss: 0.4000000059604645\n",
            "Epoch [10/2000], Batch loss: 0.2930000126361847\n",
            "Epoch [15/2000], Batch loss: 0.289000004529953\n",
            "Epoch [20/2000], Batch loss: 0.289000004529953\n",
            "Epoch [25/2000], Batch loss: 0.289000004529953\n",
            "Epoch [30/2000], Batch loss: 0.289000004529953\n",
            "Epoch [35/2000], Batch loss: 0.289000004529953\n",
            "Epoch [40/2000], Batch loss: 0.289000004529953\n",
            "Epoch [45/2000], Batch loss: 0.289000004529953\n",
            "Epoch [50/2000], Batch loss: 0.289000004529953\n",
            "Epoch [55/2000], Batch loss: 0.289000004529953\n"
          ]
        }
      ]
    },
    {
      "cell_type": "code",
      "source": [
        "# fig, ax = plt.subplots(figsize=(8,5))\n",
        "# plt.plot(np.array(loss_values))\n",
        "# plt.title(\"Step-wise Loss\")\n",
        "# plt.xlabel(\"Epochs\")\n",
        "# plt.ylabel(\"Loss\")\n",
        "# plt.show()"
      ],
      "metadata": {
        "id": "MDyYW52_8rOm"
      },
      "execution_count": null,
      "outputs": []
    },
    {
      "cell_type": "code",
      "source": [
        "# test_dataloader = DataLoader(dataset=test_data, batch_size=batch_size, shuffle=True)\n",
        "# result = model(X)\n",
        "# print(y)"
      ],
      "metadata": {
        "id": "3ihpvYBqJ0EA"
      },
      "execution_count": null,
      "outputs": []
    },
    {
      "cell_type": "code",
      "source": [],
      "metadata": {
        "id": "MVmQVs-lKODQ"
      },
      "execution_count": null,
      "outputs": []
    }
  ]
}