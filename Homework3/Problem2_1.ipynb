{
  "cells": [
    {
      "cell_type": "code",
      "execution_count": 59,
      "metadata": {
        "colab": {
          "base_uri": "https://localhost:8080/"
        },
        "id": "UyejcgKlkjpv",
        "outputId": "02a08883-c8b8-4c36-d883-39d6fac0b66b"
      },
      "outputs": [
        {
          "output_type": "stream",
          "name": "stdout",
          "text": [
            "Looking in indexes: https://pypi.org/simple, https://us-python.pkg.dev/colab-wheels/public/simple/\n",
            "Requirement already satisfied: torchdiffeq in /usr/local/lib/python3.7/dist-packages (0.2.3)\n",
            "Requirement already satisfied: scipy>=1.4.0 in /usr/local/lib/python3.7/dist-packages (from torchdiffeq) (1.7.3)\n",
            "Requirement already satisfied: torch>=1.3.0 in /usr/local/lib/python3.7/dist-packages (from torchdiffeq) (1.12.1+cu113)\n",
            "Requirement already satisfied: numpy<1.23.0,>=1.16.5 in /usr/local/lib/python3.7/dist-packages (from scipy>=1.4.0->torchdiffeq) (1.21.6)\n",
            "Requirement already satisfied: typing-extensions in /usr/local/lib/python3.7/dist-packages (from torch>=1.3.0->torchdiffeq) (4.1.1)\n"
          ]
        }
      ],
      "source": [
        "# Import dependencies\n",
        "!pip install torchdiffeq\n",
        "import argparse\n",
        "import time\n",
        "import numpy as np\n",
        "import torchdiffeq\n",
        "import torch\n",
        "import torch.nn as nn\n",
        "import torch.optim as optim\n",
        "import scipy.io as sio\n",
        "import matplotlib.pyplot as plt\n",
        "from numpy import zeros, newaxis\n",
        "import random\n",
        "import torch.nn.functional as F\n",
        "# Adjoint method is not necessary for \n",
        "adjoint = False\n",
        "if adjoint:\n",
        "    from torchdiffeq import odeint_adjoint as odeint\n",
        "else:\n",
        "    from torchdiffeq import odeint\n",
        "\n",
        "device = torch.device('cuda:' + str(gpu) if torch.cuda.is_available() else 'cpu')\n",
        "# Print whether CPU or GPU is used.\n"
      ]
    },
    {
      "cell_type": "code",
      "execution_count": 60,
      "metadata": {
        "colab": {
          "base_uri": "https://localhost:8080/"
        },
        "id": "jSj4cIufZY8M",
        "outputId": "43aa40f3-4cc3-489d-8638-32369e8d9f87"
      },
      "outputs": [
        {
          "output_type": "stream",
          "name": "stdout",
          "text": [
            "Drive already mounted at /content/drive/; to attempt to forcibly remount, call drive.mount(\"/content/drive/\", force_remount=True).\n",
            "[19, 10, 13, 3, 8, 11]\n",
            "[ 1  2  4  5  6  7  9 12 14 15 16 17 18]\n",
            "(2562, 3)\n",
            "(1183, 1)\n",
            "(2561, 3)\n",
            "(2561, 1)\n",
            "(1182, 3)\n",
            "(1182, 1)\n"
          ]
        }
      ],
      "source": [
        "from google.colab import drive\n",
        "drive.mount('/content/drive/')\n",
        "\n",
        "tlength =  3 # fill in the blank Length of time sections\n",
        "rangemax = 20  ## No. of initial conditions\n",
        "timemax = 200-tlength ## length of each time series\n",
        "intest = random.sample(range(1,rangemax), 6) ## index for test data\n",
        "intrain = np.setdiff1d(range(1,rangemax),intest) ## index for training data\n",
        "\n",
        "print(intest)\n",
        "print(intrain)\n",
        "Xtrain = np.array([0,0,0])\n",
        "Xtest = np.array([0,0,0])\n",
        "Xall = np.array([0,0,0])\n",
        "Ytrain = np.array([0])\n",
        "Ytest = np.array([0])\n",
        "Yall = np.array([0])\n",
        "intrain = 0\n",
        "for iter in range(1,rangemax):\n",
        "  randstring = str(iter)\n",
        "  image_array= sio.loadmat('/content/drive/My Drive/mae259b_hw3_f2022/theta_'+randstring+'.mat')\n",
        "  thetaall= image_array['thetaoutall']\n",
        "\n",
        "  for ii in range(0,timemax):\n",
        "    Xall = np.vstack([Xall,thetaall[0,ii:ii+tlength]])\n",
        "    Yall = np.vstack([Yall,thetaall[0,ii+tlength]])\n",
        "    if iter in intest:\n",
        "      Xtest = np.vstack([Xtest,thetaall[0,ii:ii+tlength]])\n",
        "      Ytest = np.vstack([Ytest,thetaall[0,ii+tlength]])\n",
        "    else:\n",
        "\n",
        "      Xtrain = np.vstack([Xtrain,thetaall[0,ii:ii+tlength]])\n",
        "      Ytrain = np.vstack([Ytrain,thetaall[0,ii+tlength]])\n",
        "print(Xtrain.shape)\n",
        "print(Ytest.shape)\n",
        "\n",
        "Xtest = Xtest[1:,:]\n",
        "Ytest = Ytest[1:,:]\n",
        "Xtrain = Xtrain[1:,:]\n",
        "Ytrain = Ytrain[1:,:]\n",
        "Xall = Xall[1:,:]\n",
        "Yall = Yall[1:,:]\n",
        "\n",
        "## Let's check the data size\n",
        "print(Xtrain.shape)\n",
        "print(Ytrain.shape)\n",
        "print(Xtest.shape)\n",
        "print(Ytest.shape)"
      ]
    },
    {
      "cell_type": "code",
      "execution_count": 61,
      "metadata": {
        "colab": {
          "base_uri": "https://localhost:8080/"
        },
        "id": "rcW_kAfcxME3",
        "outputId": "a8fbca8e-5711-40fd-94fe-ab11b1f7475b"
      },
      "outputs": [
        {
          "output_type": "stream",
          "name": "stdout",
          "text": [
            "torch.Size([2561, 3])\n",
            "torch.Size([2561, 1])\n",
            "torch.Size([1182, 3])\n",
            "torch.Size([1182, 1])\n"
          ]
        }
      ],
      "source": [
        "## TRANSFORM TO PYTORCH TENSOR\n",
        "\n",
        "\n",
        "xtrain = torch.from_numpy(Xtrain).requires_grad_(True)\n",
        "xtest = torch.from_numpy(Xtest).requires_grad_(True)\n",
        "\n",
        "ytrain = torch.from_numpy(Ytrain).requires_grad_(True)\n",
        "ytest = torch.from_numpy(Ytest).requires_grad_(True)\n",
        "print(xtrain.shape)\n",
        "print(ytrain.shape)\n",
        "print(xtest.shape)\n",
        "print(ytest.shape)"
      ]
    },
    {
      "cell_type": "code",
      "execution_count": 62,
      "metadata": {
        "colab": {
          "base_uri": "https://localhost:8080/"
        },
        "id": "6dS1POtrxQDF",
        "outputId": "6ddc4c1c-9ee2-406c-ebbb-268bbcdaa061"
      },
      "outputs": [
        {
          "output_type": "stream",
          "name": "stdout",
          "text": [
            "Net(\n",
            "  (fc1): Linear(in_features=3, out_features=1000, bias=True)\n",
            "  (fc2): Linear(in_features=1000, out_features=1000, bias=True)\n",
            "  (fc3): Linear(in_features=1000, out_features=1000, bias=True)\n",
            "  (fc4): Linear(in_features=1000, out_features=1, bias=True)\n",
            ")\n"
          ]
        }
      ],
      "source": [
        "class Net(nn.Module):\n",
        "    def __init__(self):\n",
        "        super().__init__()\n",
        "        numhid = 1000 ## fill in the blank, number of hidden layer\n",
        "        self.fc1 = nn.Linear(tlength, numhid) ## Applies a linear transformation to the incoming data, fully connected\n",
        "        self.fc2 = nn.Linear(numhid, numhid)\n",
        "        self.fc3 = nn.Linear(numhid, numhid)\n",
        "        self.fc4 = nn.Linear(numhid, 1)\n",
        "        \n",
        "    def forward(self, x):\n",
        "        x = F.relu(self.fc1(x))\n",
        "        x = F.relu(self.fc2(x))\n",
        "        x = F.relu(self.fc3(x))\n",
        "        x = self.fc4(x)\n",
        "        return x\n",
        "\n",
        "net = Net()\n",
        "print(net)"
      ]
    },
    {
      "cell_type": "markdown",
      "metadata": {
        "id": "3V7wm05JmlQL"
      },
      "source": [
        "Select smaller sizes"
      ]
    },
    {
      "cell_type": "code",
      "execution_count": 63,
      "metadata": {
        "colab": {
          "base_uri": "https://localhost:8080/"
        },
        "id": "LVdXt3c4oJyk",
        "outputId": "66e5b8cf-ee03-4e83-c8b6-3c30598f746a"
      },
      "outputs": [
        {
          "output_type": "stream",
          "name": "stdout",
          "text": [
            "torch.Size([2561, 3])\n"
          ]
        }
      ],
      "source": [
        "print(xtrain.shape)"
      ]
    },
    {
      "cell_type": "code",
      "execution_count": 64,
      "metadata": {
        "id": "fhnwr9sOxUr3"
      },
      "outputs": [],
      "source": [
        "train = torch.utils.data.TensorDataset(xtrain,ytrain)\n",
        "train_loader = torch.utils.data.DataLoader(train, batch_size= 128, shuffle=False)# fill in the blank, batch size\n",
        "\n",
        "train = torch.utils.data.TensorDataset(xtest,ytest)\n",
        "train_loader = torch.utils.data.DataLoader(train, batch_size= 128, shuffle=False)"
      ]
    },
    {
      "cell_type": "code",
      "execution_count": 65,
      "metadata": {
        "id": "1duA5-2BpHL_"
      },
      "outputs": [],
      "source": [
        "import torch.optim as optim\n",
        "\n",
        "loss_function = nn.MSELoss()\n",
        "\n",
        "optimizer = optim.Adam(net.parameters(), lr=0.01,  weight_decay=1e-5) # fill in the blank, lr is the learning rate\n",
        "lossall_train=[]\n",
        "for epoch in range(300): #fill in the blank, number of full passes over the data\n",
        "    for data in train_loader:  # data is a batch of data\n",
        "        X, y = data  # X is the batch of features, y is the batch of targets.\n",
        "        net.zero_grad()  # sets gradients to 0 before loss calc. You will do this likely every step.\n",
        "        output = net(X.float())  # pass in the reshaped batch \n",
        "        loss = loss_function(output, y.float())  # loss value Cross entropy loss\n",
        "\n",
        "        loss.backward()  # apply this loss backwards thru the network's parameters\n",
        "        \n",
        "        optimizer.step()  # attempt to optimize weights to account for loss/gradients \n",
        "    lossall_train=lossall_train+[loss.detach().numpy()]\n",
        "    \n",
        "    #print(loss)  # print loss. We hope loss (a measure of wrong-ness) declines! "
      ]
    },
    {
      "cell_type": "markdown",
      "metadata": {
        "id": "lVfiHRLyr0OS"
      },
      "source": [
        "Let's check the loss"
      ]
    },
    {
      "cell_type": "code",
      "execution_count": 71,
      "metadata": {
        "colab": {
          "base_uri": "https://localhost:8080/",
          "height": 297
        },
        "id": "5HUy9EBvruuX",
        "outputId": "7cb0ad01-2990-44e4-c310-afb20f906475"
      },
      "outputs": [
        {
          "output_type": "execute_result",
          "data": {
            "text/plain": [
              "Text(0, 0.5, 'Loss')"
            ]
          },
          "metadata": {},
          "execution_count": 71
        },
        {
          "output_type": "display_data",
          "data": {
            "text/plain": [
              "<Figure size 432x288 with 1 Axes>"
            ],
            "image/png": "[encoded data removed]"
          },
          "metadata": {
            "needs_background": "light"
          }
        }
      ],
      "source": [
        "plt.plot(lossall_train)\n",
        "plt.xlabel(\"Number of Iteration\")\n",
        "plt.ylabel(\"Loss\")"
      ]
    },
    {
      "cell_type": "markdown",
      "metadata": {
        "id": "EZKH77_vr3q_"
      },
      "source": [
        "Finally, let's check the predicted value"
      ]
    },
    {
      "cell_type": "code",
      "execution_count": 67,
      "metadata": {
        "id": "KZJBj-Usry6V"
      },
      "outputs": [],
      "source": [
        "ypred = net(xtest.float())\n"
      ]
    },
    {
      "cell_type": "code",
      "execution_count": 68,
      "metadata": {
        "colab": {
          "base_uri": "https://localhost:8080/",
          "height": 297
        },
        "id": "Ku3v62gar7_h",
        "outputId": "28ceeb66-6361-439b-839a-b7b8aeeb36db"
      },
      "outputs": [
        {
          "output_type": "execute_result",
          "data": {
            "text/plain": [
              "Text(0, 0.5, 'Prediction')"
            ]
          },
          "metadata": {},
          "execution_count": 68
        },
        {
          "output_type": "display_data",
          "data": {
            "text/plain": [
              "<Figure size 432x288 with 1 Axes>"
            ],
            "image/png": "[encoded data removed]"
          },
          "metadata": {
            "needs_background": "light"
          }
        }
      ],
      "source": [
        "plt.plot(ytest.detach().numpy(),ypred.detach().numpy() ,'o')\n",
        "plt.plot([np.min(ytest.detach().numpy())*.9,np.max(ytest.detach().numpy())*1.1],[np.min(ytest.detach().numpy())*.9,np.max(ytest.detach().numpy())*1.1])\n",
        "plt.xlabel('Measurement')\n",
        "plt.ylabel('Prediction')\n"
      ]
    }
  ],
  "metadata": {
    "colab": {
      "provenance": []
    },
    "kernelspec": {
      "display_name": "Python 3",
      "name": "python3"
    },
    "language_info": {
      "name": "python"
    }
  },
  "nbformat": 4,
  "nbformat_minor": 0
}